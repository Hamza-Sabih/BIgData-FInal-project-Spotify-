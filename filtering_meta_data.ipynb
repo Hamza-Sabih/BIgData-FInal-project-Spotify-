{
 "cells": [
  {
   "cell_type": "code",
   "execution_count": 1,
   "id": "5fce5f64",
   "metadata": {},
   "outputs": [
    {
     "name": "stderr",
     "output_type": "stream",
     "text": [
      "C:\\Users\\Haroon Sheikh\\AppData\\Local\\Temp\\ipykernel_8720\\2917804895.py:7: DtypeWarning: Columns (0,1,5,6,8,12,18,20,21,22,24,33,34,38,39,44,47,48,49,53,54,55,56,57,58,59,60,61,62,63,64,65,66,67,68,69,70,71,72,73,74,75,76,77,78,79,80,81,82,83,84,85,86,87,88,89,90,91,92,93,94,95,96,97,98,99,100,101,102,103) have mixed types. Specify dtype option on import or set low_memory=False.\n",
      "  tracks_df = pd.read_csv('tracks.csv')\n",
      "C:\\ProgramData\\anaconda3\\Lib\\site-packages\\sklearn\\preprocessing\\_encoders.py:972: FutureWarning: `sparse` was renamed to `sparse_output` in version 1.2 and will be removed in 1.4. `sparse_output` is ignored unless you leave `sparse` to its default value.\n",
      "  warnings.warn(\n"
     ]
    }
   ],
   "source": [
    "import pandas as pd\n",
    "from sklearn.preprocessing import StandardScaler\n",
    "from sklearn.impute import SimpleImputer\n",
    "from sklearn.preprocessing import OneHotEncoder\n",
    "\n",
    "# Read the tracks.csv file\n",
    "tracks_df = pd.read_csv('tracks.csv')\n",
    "\n",
    "# Filter columns (including 'name' and 'genre_top')\n",
    "selected_columns = [\"track_id\", \"listens\", \"title\", \"tracks\", \"type\", \"duration\", \"genre_top\", \"interest\", \"name\"]\n",
    "filtered_tracks_df = tracks_df[selected_columns]\n",
    "\n",
    "# Remove rows with non-numeric track IDs\n",
    "filtered_tracks_df = filtered_tracks_df[pd.to_numeric(filtered_tracks_df['track_id'], errors='coerce').notnull()]\n",
    "\n",
    "# Convert track_id to numeric\n",
    "filtered_tracks_df['track_id'] = pd.to_numeric(filtered_tracks_df['track_id'])\n",
    "\n",
    "# Handle missing values for numeric columns\n",
    "numeric_columns = ['listens', 'tracks', 'duration', 'interest']\n",
    "imputer_numeric = SimpleImputer(strategy='mean')\n",
    "filtered_tracks_df[numeric_columns] = imputer_numeric.fit_transform(filtered_tracks_df[numeric_columns])\n",
    "\n",
    "# One-hot encode categorical feature 'genre_top'\n",
    "genre_encoder = OneHotEncoder(sparse=False)\n",
    "genre_encoded = genre_encoder.fit_transform(filtered_tracks_df[['genre_top']])\n",
    "genre_encoded_df = pd.DataFrame(genre_encoded, columns=genre_encoder.get_feature_names_out(['genre_top']))\n",
    "filtered_tracks_df = pd.concat([filtered_tracks_df, genre_encoded_df], axis=1)\n",
    "filtered_tracks_df.drop(columns=['genre_top'], inplace=True)\n",
    "\n",
    "# Standardize data\n",
    "scaler = StandardScaler()\n",
    "filtered_tracks_df[['listens', 'tracks', 'duration', 'interest']] = scaler.fit_transform(filtered_tracks_df[['listens', 'tracks', 'duration', 'interest']])\n",
    "\n",
    "# Save filtered metadata to a new csv file\n",
    "filtered_tracks_df.to_csv('filtered_metadata.csv', index=False)\n"
   ]
  },
  {
   "cell_type": "code",
   "execution_count": null,
   "id": "28631dcf",
   "metadata": {},
   "outputs": [],
   "source": []
  }
 ],
 "metadata": {
  "kernelspec": {
   "display_name": "Python 3 (ipykernel)",
   "language": "python",
   "name": "python3"
  },
  "language_info": {
   "codemirror_mode": {
    "name": "ipython",
    "version": 3
   },
   "file_extension": ".py",
   "mimetype": "text/x-python",
   "name": "python",
   "nbconvert_exporter": "python",
   "pygments_lexer": "ipython3",
   "version": "3.11.5"
  }
 },
 "nbformat": 4,
 "nbformat_minor": 5
}
