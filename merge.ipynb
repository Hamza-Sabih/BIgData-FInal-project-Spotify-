{
 "cells": [
  {
   "cell_type": "markdown",
   "id": "a1b7f33c",
   "metadata": {},
   "source": [
    "# Remove leading zeros"
   ]
  },
  {
   "cell_type": "code",
   "execution_count": 1,
   "id": "d04578a2",
   "metadata": {},
   "outputs": [],
   "source": [
    "import pandas as pd\n",
    "\n",
    "# Read the MFCC_features.csv file\n",
    "mfcc_df = pd.read_csv('MFCC_features.csv')\n",
    "\n",
    "# Remove leading zeros from the \"audio_file\" column\n",
    "mfcc_df['audio_file'] = mfcc_df['audio_file'].str.lstrip('0')\n",
    "\n",
    "# Save the modified dataframe to a new csv file\n",
    "mfcc_df.to_csv('MFCC_features_no_zeros.csv', index=False)\n"
   ]
  },
  {
   "cell_type": "markdown",
   "id": "d3a92861",
   "metadata": {},
   "source": [
    "# Merging"
   ]
  },
  {
   "cell_type": "code",
   "execution_count": 2,
   "id": "357d4208",
   "metadata": {},
   "outputs": [],
   "source": [
    "import pandas as pd\n",
    "\n",
    "# Read the filtered_metadata.csv and MFCC_features_no_zeros.csv files\n",
    "filtered_metadata_df = pd.read_csv('filtered_metadata.csv')\n",
    "mfcc_df = pd.read_csv('MFCC_features_no_zeros.csv')\n",
    "\n",
    "# Extract numeric part from 'audio_file' column\n",
    "mfcc_df['audio_numeric'] = mfcc_df['audio_file'].str.extract('(\\d+)').astype(int)\n",
    "\n",
    "# Merge the two datasets based on the numeric part of the 'audio_file' and 'track_id' columns\n",
    "merged_df = pd.merge(filtered_metadata_df, mfcc_df, left_on='track_id', right_on='audio_numeric', how='inner')\n",
    "\n",
    "# Drop the 'audio_numeric' column as it's no longer needed\n",
    "merged_df.drop(columns=['audio_numeric'], inplace=True)\n",
    "\n",
    "# Save the merged dataframe to a new csv file\n",
    "merged_df.to_csv('merged_data.csv', index=False)\n"
   ]
  },
  {
   "cell_type": "code",
   "execution_count": null,
   "id": "fbbba73a",
   "metadata": {},
   "outputs": [],
   "source": []
  }
 ],
 "metadata": {
  "kernelspec": {
   "display_name": "Python 3 (ipykernel)",
   "language": "python",
   "name": "python3"
  },
  "language_info": {
   "codemirror_mode": {
    "name": "ipython",
    "version": 3
   },
   "file_extension": ".py",
   "mimetype": "text/x-python",
   "name": "python",
   "nbconvert_exporter": "python",
   "pygments_lexer": "ipython3",
   "version": "3.11.5"
  }
 },
 "nbformat": 4,
 "nbformat_minor": 5
}
